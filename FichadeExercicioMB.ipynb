{
 "nbformat": 4,
 "nbformat_minor": 2,
 "metadata": {
  "language_info": {
   "name": "python",
   "codemirror_mode": {
    "name": "ipython",
    "version": 3
   },
   "version": "3.8.1-final"
  },
  "orig_nbformat": 2,
  "file_extension": ".py",
  "mimetype": "text/x-python",
  "name": "python",
  "npconvert_exporter": "python",
  "pygments_lexer": "ipython3",
  "version": 3,
  "kernelspec": {
   "name": "python38164bit33e34bedaddc47f5b5fab5407597121a",
   "display_name": "Python 3.8.1 64-bit"
  }
 },
 "cells": [
  {
   "cell_type": "markdown",
   "metadata": {},
   "source": [
    "****\n",
    "\n",
    "# Ficha de Exercicio Matematica Básica\n",
    "\n",
    "****"
   ]
  },
  {
   "cell_type": "markdown",
   "metadata": {},
   "source": [
    "## Questão 01\n",
    "\n",
    "Pedro e João jogaram uma partida de bolinhas de gude. No final, João tinha 20 bolinhas, que correspondiam a 8 bolinhas a mais que Pedro. João e Pedro tinham juntos ?"
   ]
  },
  {
   "cell_type": "markdown",
   "metadata": {},
   "source": [
    "****\n",
    "**Resposta :**\n",
    "\n",
    "Sabemos que João, ao final da partida, tinha 20 bolinhas, correspondente a 8 bolinhas a mais que Pedro, representando matematicamente isso, temos :\n",
    "\n",
    "__*Obs :*__\n",
    "\n",
    "**x : Bolinhas que Pedro possuia no final da partida**\n",
    "\n",
    "$x + 8 = 20 $ $\\Longleftrightarrow$ $ x = 20 - 8$ $\\Longleftrightarrow$ $x = 12 $ $\\text{bolinhas}$\n",
    "\n",
    "Então, se Pedro possuia **8 bolinhas**, e  João possuia **20 bolinhas**, logo, ao todo , Eles possuiam 28 bolinhas\n",
    "****"
   ]
  },
  {
   "cell_type": "markdown",
   "metadata": {},
   "source": [
    "## Questão 02\n",
    "\n",
    "Se eu tivesse 750 reais a mais do que tenho, poderia comprar uma TV que custa 3500 reais e um DVD de 580 reais. Qual a quantia que tenho ?"
   ]
  },
  {
   "cell_type": "markdown",
   "metadata": {},
   "source": [
    "****\n",
    "**Resposta :**\n",
    "\n",
    "__*Obs :*__\n",
    "\n",
    "**x : Quantidade em dinheiro que \" eu \" possuia**\n",
    "\n",
    "$x + 750 = 3500 + 580$ $\\Longleftrightarrow$ $x + 750 = 4080$ $\\Longleftrightarrow$ $x = 4080 - 750$ $\\Longleftrightarrow$ $x = \\text{R}\\$ $ $3330,00$ \n",
    "\n",
    "Eu possuo **R$ 3330,00**\n",
    "****"
   ]
  },
  {
   "cell_type": "markdown",
   "metadata": {},
   "source": [
    "## Questão 03\n",
    "\n",
    "Carlos comprou uma televisão no valor de R$ 950,00 , dividada em 10 prestações iguais. Ao pagar a quarta prestação, recebeu de presente de seu avô, o restante do dinheiro para a quitação do aparelho. Quanto Carlos recebeu ?"
   ]
  },
  {
   "cell_type": "markdown",
   "metadata": {},
   "source": [
    "****\n",
    "**Resposta :**\n",
    "\n",
    "__*Obs :*__\n",
    "\n",
    "**p : Valor da prestação por mês**\n",
    "\n",
    "**x : Valor que o avô presenteou Carlos**\n",
    "\n",
    "$p = \\dfrac{950}{10} = R\\$ $ $95,00$ $\\text{Por mês}$\n",
    "\n",
    "Se Carlos pagou ainda 4 prestações, temos que Carlos pagou $95 \\cdot 4 = R\\$ $ $380,00$ , sobrando então da divida :\n",
    "\n",
    "$x = 950 - 380 = R\\$ $ $570,00$\n",
    "\n",
    "Logo, Carlos recebeu do seu avô R\\$ 570,00\n",
    "\n",
    "****"
   ]
  },
  {
   "cell_type": "markdown",
   "metadata": {},
   "source": [
    "## Questão 04\n",
    "\n",
    "Maria comprou 3 canetas e uma lapiseira, gastando ao todo 60 reais. A lapiseira custou 24 reais. Quanto custou cada caneta, se elas possuem o mesmo preço ?"
   ]
  },
  {
   "cell_type": "markdown",
   "metadata": {},
   "source": [
    "****\n",
    "**Resposta :**\n",
    "\n",
    "__*Obs :*__\n",
    "\n",
    "**x : lapiseira**\n",
    "\n",
    "**y : caneta**\n",
    "\n",
    "$3 \\cdot x + y = 60$\n",
    "\n",
    "Sabendo-se que , a lapiseira custou R\\$ 24,00 , temos que :\n",
    "\n",
    "$3 \\cdot x + y = 60$ $\\Longleftrightarrow$ $3 \\cdot x + 24 = 60$ $\\Longleftrightarrow$ $3\\cdot x = 60 - 24 = 36$ $\\Longleftrightarrow$ $x = \\dfrac{36}{3} = 12$\n",
    "\n",
    "Logo, temos que , o preço unitario das canetas é de R\\$  12,00\n",
    "\n",
    "****"
   ]
  },
  {
   "cell_type": "markdown",
   "metadata": {},
   "source": [
    "## Questão 05\n",
    "\n",
    "Cristina foi a uma livraria para comprar 5 cadernos e 1 livro. O total da conta foi  22 reais. Como o livro custou 7 reais e todos os cadernos têm o mesmo preço, quanto ela pagou por cada caderno ?"
   ]
  },
  {
   "cell_type": "markdown",
   "metadata": {},
   "source": [
    "****\n",
    "**Resposta :**\n",
    "\n",
    "__*Obs :*__\n",
    "\n",
    "**x : caderno**\n",
    "\n",
    "**y : livro**\n",
    "\n",
    "$5\\cdot x + y = 22$\n",
    "\n",
    "Sabendo-se que , o livro custou R\\$ 7,00, então :\n",
    "\n",
    "$5\\cdot x + y = 22$ $\\Longleftrightarrow$ $5\\cdot x + 7 = 22$ $\\Longleftrightarrow$ $5\\cdot x = 22 - 7 = 15$ $\\Longleftrightarrow$ $x = \\dfrac{15}{5} = 3$\n",
    "\n",
    "Logo, temos que , o preço unitario dos cadernos é de R\\$  3,00\n",
    "\n",
    "\n",
    "****"
   ]
  },
  {
   "cell_type": "markdown",
   "metadata": {},
   "source": [
    "## Questão 06\n",
    "\n",
    "Para uma excursão a um museu, um colégio alugou 4 ônibus. Em cada ônibus foram colocados 35 alunos. Além dos alunos 10 professores acompanham esses alunos na excursão. Quantas pessoas ao todo participaram dessa excursão ?\n"
   ]
  },
  {
   "cell_type": "markdown",
   "metadata": {},
   "source": [
    "****\n",
    "**Resposta :**\n",
    "\n",
    "__*Obs :*__\n",
    "\n",
    "**x : alunos**\n",
    "\n",
    "**y : professores**\n",
    "\n",
    "Primeiro, vamos calcular quantos passageiros, por onibus viajavam :\n",
    "\n",
    "$4\\cdot x = 4 \\cdot 35 = 140 $ $\\text{alunos}$\n",
    " \n",
    "Vamos somar agora, os 10 professores que também viajam com os alunos :\n",
    "\n",
    "$\\text{Total de participantes} = 4\\cdot x + y = 140 + 10 = 150 $ $\\text{participantes}$\n",
    "****"
   ]
  },
  {
   "cell_type": "markdown",
   "metadata": {},
   "source": [
    "## Questão 07\n",
    "\n",
    "No ano de 1992, os candidatos ao vestibular de uma faculdade foram distribuídos em 112 salas de 35 lugares cada uma. Tendo sido necessário, ainda, formar uma classe incompleta com 18 candidatos, quantos candidatos havia para o vestibular dessa faculdade ?"
   ]
  },
  {
   "cell_type": "markdown",
   "metadata": {},
   "source": [
    "****\n",
    "**Resposta :**\n",
    "\n",
    "__*Obs :*__\n",
    "\n",
    "**x : Capacidade total da area disponibilizada da faculdade (Pessoas)**\n",
    "\n",
    "**y : Total de pessoas que prestaram o vestibular**\n",
    "\n",
    "Note que, se 112 salas possuem 35 lugares, temos que :\n",
    "\n",
    "$x = 112 \\cdot 35 =  3920 $ $\\text{pessoas}$\n",
    "\n",
    "Ao acrescentarmos a sala, com apenas 18 candidatos, temos que :\n",
    "\n",
    "$y = x + 18 = 3920 + 18 = 3938 $ $\\text{pessoas}$\n",
    "\n",
    "****"
   ]
  },
  {
   "cell_type": "markdown",
   "metadata": {},
   "source": [
    "## Questão 08\n",
    "\n",
    "Eu e mais quatro amigos fomos a um restaurante. A conta de 65 reais foi dividida igualmente entre nós. Paguei a minha parte e fiquei ainda com 11 reais. Qual a quantia que eu tinha quando entrei no restaurante ?"
   ]
  },
  {
   "cell_type": "markdown",
   "metadata": {},
   "source": [
    "****\n",
    "**Resposta :**\n",
    "\n",
    "__*Obs : *__\n",
    "\n",
    "**$Total = 65$**\n",
    "\n",
    "**$x = \\dfrac{Total}{5} = 13 $ $\\text{Reais}$ : Valor da conta que cada um pagou**\n",
    "\n",
    "**y : Valor inicial de entrada no restaurante, da pessoa**\n",
    "\n",
    "Se eu tinha R\\$ 11,00 , e gastei R\\$ 13,00 pagando a conta, então quando entrei no restaurante possuia :\n",
    "\n",
    "$y = x + 11 = 13 + 11 = 24$ $\\text{Reais}$\n",
    "\n",
    "Logo, eu possuia R\\$ 24,00 quanto entrei no restaurante \n",
    "****"
   ]
  },
  {
   "cell_type": "markdown",
   "metadata": {},
   "source": [
    "## Questão 09\n",
    "\n",
    "Ari comprou 5 caixas de suco. A vendedora verificou o preço da caixa e, como o pagamento foi à vista, fez um desconto de 76 reais. Com isso, pagou 304 reais pelas 5 caixas. Qual o preço de cada caixa antes do desconto ?"
   ]
  },
  {
   "cell_type": "markdown",
   "metadata": {},
   "source": [
    " ****\n",
    "**Resposta :**\n",
    "\n",
    "__*Obs :*__\n",
    "\n",
    "**$t = 304 + 76 = 380$ reais : Total pago (Antes do desconto)**\n",
    "\n",
    "**x : Valor unitario de cada caixa (Antes do desconto)**\n",
    "\n",
    "$x = \\dfrac{t}{5} = \\dfrac{380}{5} = 76$\n",
    "\n",
    "Logo, sabemos que o preço unitario da caixa, antes do desconto, era de R\\$ 76,00\n",
    "\n",
    "****"
   ]
  },
  {
   "cell_type": "markdown",
   "metadata": {},
   "source": [
    "## Questão 10\n",
    "\n",
    "Um painel luminoso mostra figuras em movimento. Para conseguir esse efeito, o painel tem 65 linhas com 152 lâmpadas em cada linha e 12 linhas com 108 lâmpadas em cada linha. Quantas são as lâmpadas desse painel ?"
   ]
  },
  {
   "cell_type": "markdown",
   "metadata": {},
   "source": [
    "****\n",
    "**Resposta :**\n",
    "\n",
    "__*Obs :*__\n",
    "\n",
    "**x: linhas com 152 lâmpadas**\n",
    "\n",
    "**y: linhas com 105 lâmpadas**\n",
    "\n",
    "**t: total de lâmpadas**\n",
    "\n",
    "$t = 152\\cdot x + 105\\cdot y = 152\\cdot 65 + 105\\cdot 12 = 11140$ $\\text{lâmpadas}$\n",
    "\n",
    "Logo, este painel possui 11140 lâmpdas \n",
    "****"
   ]
  },
  {
   "cell_type": "markdown",
   "metadata": {},
   "source": [
    "## Questão 11\n",
    "\n",
    "Uma familia que veio dos EUA reservou para sua viagem de férias ao Brasil 15 cédulas de 50 dólares e 10 cédulas de 100 dólares. Ao chegar ao Brasil, um dólar valia 3 reais. Quantos reais a família reservou para a viagem ?"
   ]
  },
  {
   "cell_type": "markdown",
   "metadata": {},
   "source": [
    "****\n",
    "**Resposta :**\n",
    "\n",
    "__*Obs :*__\n",
    "\n",
    "**x: cédula de 50 dólares**\n",
    "\n",
    "**y: cédula de 100 dólares**\n",
    "\n",
    "**t: Total reservado (Em dolares)**\n",
    "\n",
    "Este problema é um problema de conversão, de dolar par real, logo :\n",
    "\n",
    "total (em dolares) $= 15 \\cdot x + 10 \\cdot y = 15 \\cdot 50 + 10 \\cdot 100 = 1750$ dolares\n",
    "\n",
    "Logo, convertendo esses dolaresss para real, temos que :\n",
    "\n",
    "$1 $ $\\text{real}$ $ \\longrightarrow $ $3$ $\\text{dolares}$\n",
    "\n",
    "$t $ $\\text{real}$ $ \\longrightarrow $ $1750$ $\\text{dolares}$\n",
    "\n",
    "$ \\Updownarrow $\n",
    "\n",
    "$3 \\cdot t = 1750$ $\\Longleftrightarrow$ $t = \\dfrac{1750}{3} \\approx $ $R\\$ $ $ 583,33$\n",
    "****"
   ]
  },
  {
   "cell_type": "code",
   "execution_count": null,
   "metadata": {},
   "outputs": [],
   "source": []
  }
 ]
}