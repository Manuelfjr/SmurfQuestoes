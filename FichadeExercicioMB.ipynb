{
 "nbformat": 4,
 "nbformat_minor": 2,
 "metadata": {
  "language_info": {
   "name": "python",
   "codemirror_mode": {
    "name": "ipython",
    "version": 3
   }
  },
  "orig_nbformat": 2,
  "file_extension": ".py",
  "mimetype": "text/x-python",
  "name": "python",
  "npconvert_exporter": "python",
  "pygments_lexer": "ipython3",
  "version": 3
 },
 "cells": [
  {
   "cell_type": "markdown",
   "metadata": {},
   "source": [
    "****\n",
    "\n",
    "# Ficha de Exercicio Matematica Básica\n",
    "\n",
    "****"
   ]
  },
  {
   "cell_type": "markdown",
   "metadata": {},
   "source": [
    "## Questão 01\n",
    "\n",
    "Pedro e João jogaram uma partida de bolinhas de gude. No final, João tinha 20 bolinhas, que correspondiam a 8 bolinhas a mais que Pedro. João e Pedro tinham juntos ?"
   ]
  },
  {
   "cell_type": "markdown",
   "metadata": {},
   "source": [
    "****\n",
    "**Resposta :**\n",
    "\n",
    "Sabemos que João, ao final da partida, tinha 20 bolinhas, correspondente a 8 bolinhas a mais que Pedro, representando matematicamente isso, temos :\n",
    "\n",
    "__*Obs :*__\n",
    "\n",
    "**x : Bolinhas que Pedro possuia no final da partida**\n",
    "\n",
    "$x + 8 = 20 $ $\\Longleftrightarrow$ $ x = 20 - 8$ $\\Longleftrightarrow$ $x = 12 $ $\\text{bolinhas}$\n",
    "\n",
    "Então, se Pedro possuia **8 bolinhas**, e  João possuia **20 bolinhas**, logo, ao todo , Eles possuiam 28 bolinhas\n",
    "****"
   ]
  },
  {
   "cell_type": "markdown",
   "metadata": {},
   "source": [
    "## Questão 02\n",
    "\n",
    "Se eu tivesse 750 reais a mais do que tenho, poderia comprar uma TV que custa 3500 reais e um DVD de 580 reais. Qual a quantia que tenho ?"
   ]
  },
  {
   "cell_type": "markdown",
   "metadata": {},
   "source": [
    "****\n",
    "**Resposta :**\n",
    "\n",
    "__*Obs :*__\n",
    "\n",
    "**x : Quantidade em dinheiro que \" eu \" possuia**\n",
    "\n",
    "$x + 750 = 3500 + 580$ $\\Longleftrightarrow$ $x + 750 = 4080$ $\\Longleftrightarrow$ $x = 4080 - 750$ $\\Longleftrightarrow$ $x = \\text{R}\\$ $ $3330,00$ \n",
    "\n",
    "Eu possuo **R$ 3330,00**\n",
    "****"
   ]
  },
  {
   "cell_type": "markdown",
   "metadata": {},
   "source": [
    "## Questão 03\n",
    "\n",
    "Carlos comprou uma televisão no valor de R$ 950,00 , dividada em 10 prestações iguais. Ao pagar a quarta prestação, recebeu de presente de seu avô, o restante do dinheiro para a quitação do aparelho. Quanto Carlos recebeu ?"
   ]
  },
  {
   "cell_type": "markdown",
   "metadata": {},
   "source": [
    "****\n",
    "**Resposta :**\n",
    "\n",
    "__*Obs :*__\n",
    "\n",
    "**p : Valor da prestação por mês**\n",
    "\n",
    "**x : Valor que o avô presenteou Carlos**\n",
    "\n",
    "$p = \\dfrac{950}{10} = R\\$ $ $95,00$ $\\text{Por mês}$\n",
    "\n",
    "Se Carlos pagou ainda 4 prestações, temos que Carlos pagou $95 \\cdot 4 = R\\$ $ $380,00$ , sobrando então da divida :\n",
    "\n",
    "$x = 950 - 380 = R\\$ $ $570,00$\n",
    "\n",
    "Logo, Carlos recebeu do seu avô R\\$ 570,00\n",
    "\n",
    "****"
   ]
  },
  {
   "cell_type": "markdown",
   "metadata": {},
   "source": [
    "## Questão 04\n",
    "\n",
    "Maria comprou 3 canetas e uma lapiseira, gastando ao todo 60 reais. A lapiseira custou 24 reais. Quanto custou cada caneta, se elas possuem o mesmo preço ?"
   ]
  },
  {
   "cell_type": "markdown",
   "metadata": {},
   "source": [
    "****\n",
    "**Resposta :**\n",
    "\n",
    "__*Obs :*__\n",
    "\n",
    "**x : lapiseira**\n",
    "\n",
    "**y : caneta**\n",
    "\n",
    "$3 \\cdot x + y = 60$\n",
    "\n",
    "Sabendo-se que , a lapiseira custou R\\$ 24,00 , temos que :\n",
    "\n",
    "$3 \\cdot x + y = 60$ $\\Longleftrightarrow$ $3 \\cdot x + 24 = 60$ $\\Longleftrightarrow$ $3\\cdot x = 60 - 24 = 36$ $\\Longleftrightarrow$ $x = \\dfrac{36}{3} = 12$\n",
    "\n",
    "Logo, temos que , o preço unitario das canetas é de R\\$  12,00\n",
    "\n",
    "****"
   ]
  },
  {
   "cell_type": "markdown",
   "metadata": {},
   "source": [
    "## Questão 05\n",
    "\n",
    "Cristina foi a uma livraria para comprar 5 cadernos e 1 livro. O total da conta foi  22 reais. Como o livro custou 7 reais e todos os cadernos têm o mesmo preço, quanto ela pagou por cada caderno ?"
   ]
  },
  {
   "cell_type": "markdown",
   "metadata": {},
   "source": [
    "****\n",
    "**Resposta :**\n",
    "\n",
    "**Obs :**\n",
    "****"
   ]
  },
  {
   "cell_type": "code",
   "execution_count": null,
   "metadata": {},
   "outputs": [],
   "source": []
  }
 ]
}