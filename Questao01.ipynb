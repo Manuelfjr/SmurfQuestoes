{
  "nbformat": 4,
  "nbformat_minor": 0,
  "metadata": {
    "colab": {
      "name": "Questao01.ipynb",
      "provenance": [],
      "collapsed_sections": []
    },
    "kernelspec": {
      "name": "python3",
      "display_name": "Python 3"
    }
  },
  "cells": [
    {
      "cell_type": "markdown",
      "metadata": {
        "colab_type": "text",
        "id": "rmaPmxNpl6fb"
      },
      "source": [
        ""
      ]
    },
    {
      "cell_type": "markdown",
      "metadata": {
        "colab_type": "text",
        "id": "8y4Z_Osll8s2"
      },
      "source": [
        "\n",
        "# Método 1 (Forma \"correta\" de se fazer) :\n",
        "\n",
        "# Exercicio :\n",
        "\n",
        "# $f(x,y) = \\dfrac{y^{2} + x + x \\cdot y + 2 \\cdot y + 1}{x \\cdot y + y^{2} + y}  = $\n",
        "\n",
        "# $= \\dfrac{x \\cdot (1 + y) + (y^{2} + 2 \\cdot y + 1)}{x \\cdot y + y^{2} + y} =$\n",
        "# $= \\dfrac{x \\cdot (1 + y) + (y^{2} + 2 \\cdot y + 1)}{y \\cdot (x + y + 1)}$\n",
        "\n",
        "Note que, podemos escrever a seguinte partição , do numerador:\n",
        "\n",
        "# $(y^{2} + 2 \\cdot y + 1)$\n",
        "\n",
        "da seguinte forma :\n",
        "\n",
        "# $(y^{2} + 2 \\cdot y + 1) = [y^{2} + 2 \\cdot y \\cdot + (1)^{2}]  = (y + 1)^{2}$ \n",
        "\n",
        " {  Obs: \n",
        " Produto Notavel : Quadrado da soma : $(a + b)^{2} = (a^{2} + 2 \\cdot a \\cdot b + b^{2})$  }\n",
        "\n",
        "Então , tomando isso, temos que \n",
        "\n",
        "# $f(x,y) = \\dfrac{x \\cdot (1 + y) + (y^{2} + 2 \\cdot y + 1)}{y \\cdot (x + y + 1)} = $\n",
        "# $= \\dfrac{x \\cdot (1 + y) + (1 + y)^{2}}{y \\cdot (x + y + 1)} $\n",
        "\n",
        "Mantendo em evidencia no numerador a expressão $(1 + y)$, temos que :\n",
        "\n",
        "# $f(x,y) = \\dfrac{(1 + y) \\cdot [x + (y + 1)]}{y \\cdot (x + y + 1)} =$\n",
        "# $ = \\dfrac{(1 + y) \\cdot [x + (y + 1)]}{y \\cdot [x + (y + 1)]}$\n",
        "\n",
        " Note que , $\\dfrac{[x + (y + 1)]}{[x + (y + 1)]} = 1$, Então\n",
        "\n",
        "# $f(x,y) = \\dfrac{(1 + y)}{y}$\n"
      ]
    },
    {
      "cell_type": "markdown",
      "metadata": {
        "colab_type": "text",
        "id": "lmpJZk-ktL09"
      },
      "source": [
        "# Método 2 (Famoso Migue):\n",
        "\n",
        "# Exercicio\n",
        "\n",
        " Vamos Calcular a base do \"migue\" kkkkk \n",
        " Repare que , se adotarmos valores para $x$ e $y$, teremos que observar que ,tanto a formula não simplificada, dada por:\n",
        "\n",
        "## $ \\dfrac{y^{2} + x + x \\cdot y + 2 \\cdot y + 1}{x \\cdot y + y^{2} + y} $\n",
        "\n",
        "quanto a simplificada, terão que obter mesmos valores, correto né ?! (apenas logica, podemos escrever 2 da seguinte forma também : $2 = \\dfrac{1}{\\dfrac{1}{2}} = 1 \\cdot \\dfrac{2}{1})$\n",
        "\n",
        " Pois bem, vamos chutar o par $(x, y) = (1, 1)$ , onde $ x = 1,y = 1$, então, substituindo na equação que temos que simplificar:\n",
        "\n",
        "# $\\dfrac{y^{2} + x + x \\cdot y + 2 \\cdot y + 1}{x \\cdot y + y^{2} + y} = \\dfrac{1^{2} + 1 + 1 \\cdot 1 + 2 \\cdot 1 + 1}{1 \\cdot 1 + 1^{2} + 1} = \\dfrac{6}{3} = 2$\n",
        "\n",
        " Então, a resposta correta deve ser igual a $2$, quando $x = 1$ e $y = 1$\n",
        "\n",
        " Vamos substituir em cada resposta de cada aluno :\n",
        "\n",
        "# Aluno I:\n",
        "\n",
        "## $x + 3 = 1 + 3 = 4 $ ||||  Resposta : 4  $\\neq$ 2\n",
        "\n",
        "# Aluno II:\n",
        "\n",
        "## $x + y + 1 = 1 + 1 + 1 = 3 $ |||| Resposta : 3 $\\neq$ 2\n",
        "\n",
        "# Aluno III:\n",
        "\n",
        "## $\\dfrac{x + 2 \\cdot y + 1}{y} = \\dfrac{1 + 2 \\cdot 1 + 1}{1} = 4$ |||| Resposta : 4 $\\neq$ 2\n",
        "\n",
        "# Aluno IV:\n",
        "\n",
        "## $\\dfrac{1 + y}{y} = \\dfrac{1 + 1}{1} = 2$ |||| Resposta : 2 $=$ 2 (Aluno ninja kkkkk) \n",
        "\n",
        "# Aluno V:\n",
        "\n",
        "## $ 1 $ |||| Resposta : 1 $\\neq$ 2 "
      ]
    },
    {
      "cell_type": "code",
      "execution_count": 0,
      "metadata": {
        "colab": {},
        "colab_type": "code",
        "id": "9l2H2jyftZvn"
      },
      "outputs": [],
      "source": []
    }
  ]
}